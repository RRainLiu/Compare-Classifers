{
 "cells": [
  {
   "cell_type": "markdown",
   "metadata": {},
   "source": [
    "# Practical Application III: Comparing Classifiers\n",
    "\n",
    "**Overview**: In this practical application, your goal is to compare the performance of the classifiers we encountered in this section, namely K Nearest Neighbor, Logistic Regression, Decision Trees, and Support Vector Machines.  We will utilize a dataset related to marketing bank products over the telephone.  \n",
    "\n"
   ]
  },
  {
   "cell_type": "markdown",
   "metadata": {},
   "source": [
    "### Getting Started\n",
    "\n",
    "Our dataset comes from the UCI Machine Learning repository [link](https://archive.ics.uci.edu/ml/datasets/bank+marketing).  The data is from a Portugese banking institution and is a collection of the results of multiple marketing campaigns.  We will make use of the article accompanying the dataset [here](CRISP-DM-BANK.pdf) for more information on the data and features.\n",
    "\n"
   ]
  },
  {
   "cell_type": "markdown",
   "metadata": {},
   "source": [
    "### Problem 1: Understanding the Data\n",
    "\n",
    "To gain a better understanding of the data, please read the information provided in the UCI link above, and examine the **Materials and Methods** section of the paper.  How many marketing campaigns does this data represent?"
   ]
  },
  {
   "attachments": {},
   "cell_type": "markdown",
   "metadata": {},
   "source": [
    "## The dataset collected is related to 17 campaigns that occurred between May 2008 and November 2010, corresponding to a total of 79354 contacts. "
   ]
  },
  {
   "cell_type": "markdown",
   "metadata": {},
   "source": [
    "### Problem 2: Read in the Data\n",
    "\n",
    "Use pandas to read in the dataset `bank-additional-full.csv` and assign to a meaningful variable name."
   ]
  },
  {
   "cell_type": "code",
   "execution_count": 83,
   "metadata": {},
   "outputs": [],
   "source": [
    "import pandas as pd\n",
    "import numpy as np\n",
    "from sklearn.compose import ColumnTransformer\n",
    "from sklearn.pipeline import Pipeline\n",
    "from sklearn.preprocessing import StandardScaler, OneHotEncoder\n",
    "from sklearn.linear_model import LogisticRegression\n",
    "from sklearn.model_selection import train_test_split, RandomizedSearchCV,GridSearchCV\n",
    "from sklearn.neighbors import KNeighborsClassifier as knn\n",
    "from sklearn.svm import SVC\n",
    "from sklearn.tree import DecisionTreeClassifier\n",
    "import time\n",
    "import seaborn as sns\n",
    "import matplotlib.pyplot as plt\n",
    "from sklearn.metrics import roc_auc_score, classification_report\n",
    "from sklearn.feature_selection import SelectFromModel\n",
    "from sklearn.svm import LinearSVC\n",
    "from sklearn.feature_selection import RFE\n",
    "from sklearn.inspection import permutation_importance"
   ]
  },
  {
   "cell_type": "code",
   "execution_count": 2,
   "metadata": {},
   "outputs": [
    {
     "name": "stdout",
     "output_type": "stream",
     "text": [
      "shape of data:  (41188, 21)\n"
     ]
    }
   ],
   "source": [
    "df = pd.read_csv('data/bank-additional-full.csv', sep = ';')\n",
    "print('shape of data: ',df.shape)"
   ]
  },
  {
   "cell_type": "code",
   "execution_count": 3,
   "metadata": {},
   "outputs": [
    {
     "data": {
      "text/html": [
       "<div>\n",
       "<style scoped>\n",
       "    .dataframe tbody tr th:only-of-type {\n",
       "        vertical-align: middle;\n",
       "    }\n",
       "\n",
       "    .dataframe tbody tr th {\n",
       "        vertical-align: top;\n",
       "    }\n",
       "\n",
       "    .dataframe thead th {\n",
       "        text-align: right;\n",
       "    }\n",
       "</style>\n",
       "<table border=\"1\" class=\"dataframe\">\n",
       "  <thead>\n",
       "    <tr style=\"text-align: right;\">\n",
       "      <th></th>\n",
       "      <th>age</th>\n",
       "      <th>job</th>\n",
       "      <th>marital</th>\n",
       "      <th>education</th>\n",
       "      <th>default</th>\n",
       "      <th>housing</th>\n",
       "      <th>loan</th>\n",
       "      <th>contact</th>\n",
       "      <th>month</th>\n",
       "      <th>day_of_week</th>\n",
       "      <th>duration</th>\n",
       "      <th>campaign</th>\n",
       "      <th>pdays</th>\n",
       "      <th>previous</th>\n",
       "      <th>poutcome</th>\n",
       "      <th>emp.var.rate</th>\n",
       "      <th>cons.price.idx</th>\n",
       "      <th>cons.conf.idx</th>\n",
       "      <th>euribor3m</th>\n",
       "      <th>nr.employed</th>\n",
       "      <th>y</th>\n",
       "    </tr>\n",
       "  </thead>\n",
       "  <tbody>\n",
       "    <tr>\n",
       "      <th>0</th>\n",
       "      <td>56</td>\n",
       "      <td>housemaid</td>\n",
       "      <td>married</td>\n",
       "      <td>basic.4y</td>\n",
       "      <td>no</td>\n",
       "      <td>no</td>\n",
       "      <td>no</td>\n",
       "      <td>telephone</td>\n",
       "      <td>may</td>\n",
       "      <td>mon</td>\n",
       "      <td>261</td>\n",
       "      <td>1</td>\n",
       "      <td>999</td>\n",
       "      <td>0</td>\n",
       "      <td>nonexistent</td>\n",
       "      <td>1.1</td>\n",
       "      <td>93.994</td>\n",
       "      <td>-36.4</td>\n",
       "      <td>4.857</td>\n",
       "      <td>5191.0</td>\n",
       "      <td>no</td>\n",
       "    </tr>\n",
       "    <tr>\n",
       "      <th>1</th>\n",
       "      <td>57</td>\n",
       "      <td>services</td>\n",
       "      <td>married</td>\n",
       "      <td>high.school</td>\n",
       "      <td>unknown</td>\n",
       "      <td>no</td>\n",
       "      <td>no</td>\n",
       "      <td>telephone</td>\n",
       "      <td>may</td>\n",
       "      <td>mon</td>\n",
       "      <td>149</td>\n",
       "      <td>1</td>\n",
       "      <td>999</td>\n",
       "      <td>0</td>\n",
       "      <td>nonexistent</td>\n",
       "      <td>1.1</td>\n",
       "      <td>93.994</td>\n",
       "      <td>-36.4</td>\n",
       "      <td>4.857</td>\n",
       "      <td>5191.0</td>\n",
       "      <td>no</td>\n",
       "    </tr>\n",
       "    <tr>\n",
       "      <th>2</th>\n",
       "      <td>37</td>\n",
       "      <td>services</td>\n",
       "      <td>married</td>\n",
       "      <td>high.school</td>\n",
       "      <td>no</td>\n",
       "      <td>yes</td>\n",
       "      <td>no</td>\n",
       "      <td>telephone</td>\n",
       "      <td>may</td>\n",
       "      <td>mon</td>\n",
       "      <td>226</td>\n",
       "      <td>1</td>\n",
       "      <td>999</td>\n",
       "      <td>0</td>\n",
       "      <td>nonexistent</td>\n",
       "      <td>1.1</td>\n",
       "      <td>93.994</td>\n",
       "      <td>-36.4</td>\n",
       "      <td>4.857</td>\n",
       "      <td>5191.0</td>\n",
       "      <td>no</td>\n",
       "    </tr>\n",
       "    <tr>\n",
       "      <th>3</th>\n",
       "      <td>40</td>\n",
       "      <td>admin.</td>\n",
       "      <td>married</td>\n",
       "      <td>basic.6y</td>\n",
       "      <td>no</td>\n",
       "      <td>no</td>\n",
       "      <td>no</td>\n",
       "      <td>telephone</td>\n",
       "      <td>may</td>\n",
       "      <td>mon</td>\n",
       "      <td>151</td>\n",
       "      <td>1</td>\n",
       "      <td>999</td>\n",
       "      <td>0</td>\n",
       "      <td>nonexistent</td>\n",
       "      <td>1.1</td>\n",
       "      <td>93.994</td>\n",
       "      <td>-36.4</td>\n",
       "      <td>4.857</td>\n",
       "      <td>5191.0</td>\n",
       "      <td>no</td>\n",
       "    </tr>\n",
       "    <tr>\n",
       "      <th>4</th>\n",
       "      <td>56</td>\n",
       "      <td>services</td>\n",
       "      <td>married</td>\n",
       "      <td>high.school</td>\n",
       "      <td>no</td>\n",
       "      <td>no</td>\n",
       "      <td>yes</td>\n",
       "      <td>telephone</td>\n",
       "      <td>may</td>\n",
       "      <td>mon</td>\n",
       "      <td>307</td>\n",
       "      <td>1</td>\n",
       "      <td>999</td>\n",
       "      <td>0</td>\n",
       "      <td>nonexistent</td>\n",
       "      <td>1.1</td>\n",
       "      <td>93.994</td>\n",
       "      <td>-36.4</td>\n",
       "      <td>4.857</td>\n",
       "      <td>5191.0</td>\n",
       "      <td>no</td>\n",
       "    </tr>\n",
       "  </tbody>\n",
       "</table>\n",
       "</div>"
      ],
      "text/plain": [
       "   age        job  marital    education  default housing loan    contact  \\\n",
       "0   56  housemaid  married     basic.4y       no      no   no  telephone   \n",
       "1   57   services  married  high.school  unknown      no   no  telephone   \n",
       "2   37   services  married  high.school       no     yes   no  telephone   \n",
       "3   40     admin.  married     basic.6y       no      no   no  telephone   \n",
       "4   56   services  married  high.school       no      no  yes  telephone   \n",
       "\n",
       "  month day_of_week  duration  campaign  pdays  previous     poutcome  \\\n",
       "0   may         mon       261         1    999         0  nonexistent   \n",
       "1   may         mon       149         1    999         0  nonexistent   \n",
       "2   may         mon       226         1    999         0  nonexistent   \n",
       "3   may         mon       151         1    999         0  nonexistent   \n",
       "4   may         mon       307         1    999         0  nonexistent   \n",
       "\n",
       "   emp.var.rate  cons.price.idx  cons.conf.idx  euribor3m  nr.employed   y  \n",
       "0           1.1          93.994          -36.4      4.857       5191.0  no  \n",
       "1           1.1          93.994          -36.4      4.857       5191.0  no  \n",
       "2           1.1          93.994          -36.4      4.857       5191.0  no  \n",
       "3           1.1          93.994          -36.4      4.857       5191.0  no  \n",
       "4           1.1          93.994          -36.4      4.857       5191.0  no  "
      ]
     },
     "execution_count": 3,
     "metadata": {},
     "output_type": "execute_result"
    }
   ],
   "source": [
    "pd.set_option('display.max_columns', None)\n",
    "df.head()"
   ]
  },
  {
   "cell_type": "markdown",
   "metadata": {},
   "source": [
    "### Problem 3: Understanding the Features\n",
    "\n",
    "\n",
    "Examine the data description below, and determine if any of the features are missing values or need to be coerced to a different data type.\n",
    "\n",
    "\n",
    "```\n",
    "Input variables:\n",
    "# bank client data:\n",
    "1 - age (numeric)\n",
    "2 - job : type of job (categorical: 'admin.','blue-collar','entrepreneur','housemaid','management','retired','self-employed','services','student','technician','unemployed','unknown')\n",
    "3 - marital : marital status (categorical: 'divorced','married','single','unknown'; note: 'divorced' means divorced or widowed)\n",
    "4 - education (categorical: 'basic.4y','basic.6y','basic.9y','high.school','illiterate','professional.course','university.degree','unknown')\n",
    "5 - default: has credit in default? (categorical: 'no','yes','unknown')\n",
    "6 - housing: has housing loan? (categorical: 'no','yes','unknown')\n",
    "7 - loan: has personal loan? (categorical: 'no','yes','unknown')\n",
    "# related with the last contact of the current campaign:\n",
    "8 - contact: contact communication type (categorical: 'cellular','telephone')\n",
    "9 - month: last contact month of year (categorical: 'jan', 'feb', 'mar', ..., 'nov', 'dec')\n",
    "10 - day_of_week: last contact day of the week (categorical: 'mon','tue','wed','thu','fri')\n",
    "11 - duration: last contact duration, in seconds (numeric). Important note: this attribute highly affects the output target (e.g., if duration=0 then y='no'). Yet, the duration is not known before a call is performed. Also, after the end of the call y is obviously known. Thus, this input should only be included for benchmark purposes and should be discarded if the intention is to have a realistic predictive model.\n",
    "# other attributes:\n",
    "12 - campaign: number of contacts performed during this campaign and for this client (numeric, includes last contact)\n",
    "13 - pdays: number of days that passed by after the client was last contacted from a previous campaign (numeric; 999 means client was not previously contacted)\n",
    "14 - previous: number of contacts performed before this campaign and for this client (numeric)\n",
    "15 - poutcome: outcome of the previous marketing campaign (categorical: 'failure','nonexistent','success')\n",
    "# social and economic context attributes\n",
    "16 - emp.var.rate: employment variation rate - quarterly indicator (numeric)\n",
    "17 - cons.price.idx: consumer price index - monthly indicator (numeric)\n",
    "18 - cons.conf.idx: consumer confidence index - monthly indicator (numeric)\n",
    "19 - euribor3m: euribor 3 month rate - daily indicator (numeric)\n",
    "20 - nr.employed: number of employees - quarterly indicator (numeric)\n",
    "\n",
    "Output variable (desired target):\n",
    "21 - y - has the client subscribed a term deposit? (binary: 'yes','no')\n",
    "```\n",
    "\n"
   ]
  },
  {
   "cell_type": "code",
   "execution_count": 4,
   "metadata": {},
   "outputs": [
    {
     "data": {
      "text/html": [
       "<div>\n",
       "<style scoped>\n",
       "    .dataframe tbody tr th:only-of-type {\n",
       "        vertical-align: middle;\n",
       "    }\n",
       "\n",
       "    .dataframe tbody tr th {\n",
       "        vertical-align: top;\n",
       "    }\n",
       "\n",
       "    .dataframe thead th {\n",
       "        text-align: right;\n",
       "    }\n",
       "</style>\n",
       "<table border=\"1\" class=\"dataframe\">\n",
       "  <thead>\n",
       "    <tr style=\"text-align: right;\">\n",
       "      <th></th>\n",
       "      <th>age</th>\n",
       "      <th>job</th>\n",
       "      <th>marital</th>\n",
       "      <th>education</th>\n",
       "      <th>default</th>\n",
       "      <th>housing</th>\n",
       "      <th>loan</th>\n",
       "      <th>contact</th>\n",
       "      <th>month</th>\n",
       "      <th>day_of_week</th>\n",
       "      <th>duration</th>\n",
       "      <th>campaign</th>\n",
       "      <th>pdays</th>\n",
       "      <th>previous</th>\n",
       "      <th>poutcome</th>\n",
       "      <th>emp.var.rate</th>\n",
       "      <th>cons.price.idx</th>\n",
       "      <th>cons.conf.idx</th>\n",
       "      <th>euribor3m</th>\n",
       "      <th>nr.employed</th>\n",
       "      <th>y</th>\n",
       "    </tr>\n",
       "  </thead>\n",
       "  <tbody>\n",
       "    <tr>\n",
       "      <th>num_missing</th>\n",
       "      <td>0</td>\n",
       "      <td>0</td>\n",
       "      <td>0</td>\n",
       "      <td>0</td>\n",
       "      <td>0</td>\n",
       "      <td>0</td>\n",
       "      <td>0</td>\n",
       "      <td>0</td>\n",
       "      <td>0</td>\n",
       "      <td>0</td>\n",
       "      <td>0</td>\n",
       "      <td>0</td>\n",
       "      <td>0</td>\n",
       "      <td>0</td>\n",
       "      <td>0</td>\n",
       "      <td>0</td>\n",
       "      <td>0</td>\n",
       "      <td>0</td>\n",
       "      <td>0</td>\n",
       "      <td>0</td>\n",
       "      <td>0</td>\n",
       "    </tr>\n",
       "  </tbody>\n",
       "</table>\n",
       "</div>"
      ],
      "text/plain": [
       "             age  job  marital  education  default  housing  loan  contact  \\\n",
       "num_missing    0    0        0          0        0        0     0        0   \n",
       "\n",
       "             month  day_of_week  duration  campaign  pdays  previous  \\\n",
       "num_missing      0            0         0         0      0         0   \n",
       "\n",
       "             poutcome  emp.var.rate  cons.price.idx  cons.conf.idx  euribor3m  \\\n",
       "num_missing         0             0               0              0          0   \n",
       "\n",
       "             nr.employed  y  \n",
       "num_missing            0  0  "
      ]
     },
     "execution_count": 4,
     "metadata": {},
     "output_type": "execute_result"
    }
   ],
   "source": [
    "# check the missing value\n",
    "missing = df.isnull().sum()\n",
    "missing_frame = pd.DataFrame(missing)\n",
    "missing_frame.T.rename(index = {0:'num_missing'})"
   ]
  },
  {
   "cell_type": "code",
   "execution_count": 5,
   "metadata": {},
   "outputs": [
    {
     "name": "stdout",
     "output_type": "stream",
     "text": [
      "<class 'pandas.core.frame.DataFrame'>\n",
      "RangeIndex: 41188 entries, 0 to 41187\n",
      "Data columns (total 21 columns):\n",
      " #   Column          Non-Null Count  Dtype  \n",
      "---  ------          --------------  -----  \n",
      " 0   age             41188 non-null  int64  \n",
      " 1   job             41188 non-null  object \n",
      " 2   marital         41188 non-null  object \n",
      " 3   education       41188 non-null  object \n",
      " 4   default         41188 non-null  object \n",
      " 5   housing         41188 non-null  object \n",
      " 6   loan            41188 non-null  object \n",
      " 7   contact         41188 non-null  object \n",
      " 8   month           41188 non-null  object \n",
      " 9   day_of_week     41188 non-null  object \n",
      " 10  duration        41188 non-null  int64  \n",
      " 11  campaign        41188 non-null  int64  \n",
      " 12  pdays           41188 non-null  int64  \n",
      " 13  previous        41188 non-null  int64  \n",
      " 14  poutcome        41188 non-null  object \n",
      " 15  emp.var.rate    41188 non-null  float64\n",
      " 16  cons.price.idx  41188 non-null  float64\n",
      " 17  cons.conf.idx   41188 non-null  float64\n",
      " 18  euribor3m       41188 non-null  float64\n",
      " 19  nr.employed     41188 non-null  float64\n",
      " 20  y               41188 non-null  object \n",
      "dtypes: float64(5), int64(5), object(11)\n",
      "memory usage: 6.6+ MB\n"
     ]
    }
   ],
   "source": [
    "df.info()"
   ]
  },
  {
   "cell_type": "code",
   "execution_count": 6,
   "metadata": {},
   "outputs": [
    {
     "name": "stdout",
     "output_type": "stream",
     "text": [
      "job ['housemaid' 'services' 'admin.' 'blue-collar' 'technician' 'retired'\n",
      " 'management' 'unemployed' 'self-employed' 'unknown' 'entrepreneur'\n",
      " 'student'] \n",
      "\n",
      "marital ['married' 'single' 'divorced' 'unknown'] \n",
      "\n",
      "education ['basic.4y' 'high.school' 'basic.6y' 'basic.9y' 'professional.course'\n",
      " 'unknown' 'university.degree' 'illiterate'] \n",
      "\n",
      "default ['no' 'unknown' 'yes'] \n",
      "\n",
      "housing ['no' 'yes' 'unknown'] \n",
      "\n",
      "loan ['no' 'yes' 'unknown'] \n",
      "\n",
      "contact ['telephone' 'cellular'] \n",
      "\n",
      "month ['may' 'jun' 'jul' 'aug' 'oct' 'nov' 'dec' 'mar' 'apr' 'sep'] \n",
      "\n",
      "day_of_week ['mon' 'tue' 'wed' 'thu' 'fri'] \n",
      "\n",
      "poutcome ['nonexistent' 'failure' 'success'] \n",
      "\n",
      "y ['no' 'yes'] \n",
      "\n"
     ]
    }
   ],
   "source": [
    "# examine non numeric data\n",
    "for col in df.select_dtypes(exclude=['float','int64']).columns:\n",
    "    print(col,df[col].unique(),'\\n')"
   ]
  },
  {
   "cell_type": "markdown",
   "metadata": {},
   "source": [
    "### Problem 4: Understanding the Task\n",
    "\n",
    "After examining the description and data, your goal now is to clearly state the *Business Objective* of the task.  State the objective below."
   ]
  },
  {
   "attachments": {},
   "cell_type": "markdown",
   "metadata": {},
   "source": [
    "#### The goal is to increase efficiency of directed campaigns for long-term deposit subscriptions by reducing the number of contacts to do. We will determine if a client will subscribe a deposit by his or her characteristics and contact information. We will make an analysis on what attribute influence the the successs rate."
   ]
  },
  {
   "cell_type": "markdown",
   "metadata": {},
   "source": [
    "### Problem 5: Engineering Features\n",
    "\n",
    "Now that you understand your business objective, we will build a basic model to get started.  Before we can do this, we must work to encode the data.  Using just the bank information features (columns 1 - 7), prepare the features and target column for modeling with appropriate encoding and transformations."
   ]
  },
  {
   "cell_type": "code",
   "execution_count": 7,
   "metadata": {},
   "outputs": [],
   "source": [
    "df['y']= df['y'].apply(lambda x: 1 if x == 'yes' else 0)\n",
    "features = df.drop('y',axis = 1)\n",
    "labels = df['y']\n",
    "numeric_features = features.select_dtypes(exclude=['object']).columns.values\n",
    "categorical_features = features.select_dtypes(include='object').columns.values\n",
    "preprocessor = ColumnTransformer(\n",
    "    transformers=[\n",
    "        (\"num\", StandardScaler(), numeric_features),\n",
    "        (\"cat\", OneHotEncoder(drop='if_binary'), categorical_features),\n",
    "    ]\n",
    ")"
   ]
  },
  {
   "cell_type": "markdown",
   "metadata": {},
   "source": [
    "### Problem 6: Train/Test Split\n",
    "\n",
    "With your data prepared, split it into a train and test set."
   ]
  },
  {
   "cell_type": "code",
   "execution_count": 8,
   "metadata": {},
   "outputs": [],
   "source": [
    "X_train,X_test,y_train,y_test = train_test_split(features,labels,random_state=42)"
   ]
  },
  {
   "cell_type": "markdown",
   "metadata": {},
   "source": [
    "### Problem 7: A Baseline Model\n",
    "\n",
    "Before we build our first model, we want to establish a baseline.  What is the baseline performance that our classifier should aim to beat?"
   ]
  },
  {
   "cell_type": "code",
   "execution_count": 9,
   "metadata": {},
   "outputs": [
    {
     "data": {
      "text/plain": [
       "0    0.887346\n",
       "1    0.112654\n",
       "Name: y, dtype: float64"
      ]
     },
     "execution_count": 9,
     "metadata": {},
     "output_type": "execute_result"
    }
   ],
   "source": [
    "# use majority vote to determine the baseline model\n",
    "majority_vote = labels.value_counts(normalize=True)\n",
    "majority_vote"
   ]
  },
  {
   "cell_type": "markdown",
   "metadata": {},
   "source": [
    "### Problem 8: A Simple Model\n",
    "\n",
    "Use Logistic Regression to build a basic model on your data.  "
   ]
  },
  {
   "cell_type": "code",
   "execution_count": 10,
   "metadata": {},
   "outputs": [
    {
     "name": "stdout",
     "output_type": "stream",
     "text": [
      "The train time of Logistic Regression 0.3602330684661865\n"
     ]
    },
    {
     "name": "stderr",
     "output_type": "stream",
     "text": [
      "/opt/anaconda3/lib/python3.8/site-packages/sklearn/linear_model/_logistic.py:763: ConvergenceWarning: lbfgs failed to converge (status=1):\n",
      "STOP: TOTAL NO. of ITERATIONS REACHED LIMIT.\n",
      "\n",
      "Increase the number of iterations (max_iter) or scale the data as shown in:\n",
      "    https://scikit-learn.org/stable/modules/preprocessing.html\n",
      "Please also refer to the documentation for alternative solver options:\n",
      "    https://scikit-learn.org/stable/modules/linear_model.html#logistic-regression\n",
      "  n_iter_i = _check_optimize_result(\n"
     ]
    }
   ],
   "source": [
    "log_pipe = Pipeline([\n",
    "    ('preprocessor',preprocessor),\n",
    "    ('log',LogisticRegression())\n",
    "])\n",
    "start = time.time()\n",
    "log_pipe.fit(X_train,y_train)\n",
    "stop = time.time()\n",
    "log_fit_time = stop - start\n",
    "print(f'The train time of Logistic Regression {log_fit_time}')"
   ]
  },
  {
   "cell_type": "markdown",
   "metadata": {},
   "source": [
    "### Problem 9: Score the Model\n",
    "\n",
    "What is the accuracy of your model?"
   ]
  },
  {
   "cell_type": "code",
   "execution_count": 11,
   "metadata": {},
   "outputs": [
    {
     "name": "stdout",
     "output_type": "stream",
     "text": [
      "train_acc 0.9113981418536143\n",
      "test_acc 0.9127901330484607\n"
     ]
    }
   ],
   "source": [
    "log_train_acc = log_pipe.score(X_train,y_train)\n",
    "log_test_acc = log_pipe.score(X_test,y_test)\n",
    "print(f'train_acc {log_train_acc}')\n",
    "print(f'test_acc {log_test_acc}')"
   ]
  },
  {
   "cell_type": "markdown",
   "metadata": {},
   "source": [
    "### Problem 10: Model Comparisons\n",
    "\n",
    "Now, we aim to compare the performance of the Logistic Regression model to our KNN algorithm, Decision Tree, and SVM models.  Using the default settings for each of the models, fit and score each.  Also, be sure to compare the fit time of each of the models.  Present your findings in a `DataFrame` similar to that below:\n",
    "\n",
    "| Model | Train Time | Train Accuracy | Test Accuracy |\n",
    "| ----- | ---------- | -------------  | -----------   |\n",
    "|     |    |.     |.     |"
   ]
  },
  {
   "cell_type": "code",
   "execution_count": 12,
   "metadata": {},
   "outputs": [
    {
     "name": "stdout",
     "output_type": "stream",
     "text": [
      "The train time of svc 18.60211992263794\n",
      "train_acc 0.9226959308536467\n",
      "test_acc 0.9127901330484607\n"
     ]
    }
   ],
   "source": [
    "svc_pipe = Pipeline([\n",
    "    ('preprocessor',preprocessor),\n",
    "    ('svc',SVC())\n",
    "])\n",
    "start = time.time()\n",
    "svc_pipe.fit(X_train,y_train)\n",
    "stop = time.time()\n",
    "svc_fit_time = stop - start\n",
    "print(f'The train time of svc {svc_fit_time}')\n",
    "svc_train_acc = svc_pipe.score(X_train,y_train)\n",
    "svc_test_acc = svc_pipe.score(X_test,y_test)\n",
    "print(f'train_acc {svc_train_acc}')\n",
    "print(f'test_acc {svc_test_acc}')"
   ]
  },
  {
   "cell_type": "code",
   "execution_count": 13,
   "metadata": {},
   "outputs": [
    {
     "name": "stdout",
     "output_type": "stream",
     "text": [
      "The train time of knn 0.08324408531188965\n",
      "train_acc 0.9270985076559516\n",
      "test_acc 0.903175682237545\n"
     ]
    }
   ],
   "source": [
    "knn_pipe = Pipeline([\n",
    "    ('preprocessor',preprocessor),\n",
    "    ('knn',knn())\n",
    "])\n",
    "start = time.time()\n",
    "knn_pipe.fit(X_train,y_train)\n",
    "stop = time.time()\n",
    "knn_fit_time = stop - start\n",
    "print(f'The train time of knn {knn_fit_time}')\n",
    "knn_train_acc = knn_pipe.score(X_train,y_train)\n",
    "knn_test_acc = knn_pipe.score(X_test,y_test)\n",
    "print(f'train_acc {knn_train_acc}')\n",
    "print(f'test_acc {knn_test_acc}')"
   ]
  },
  {
   "cell_type": "code",
   "execution_count": 14,
   "metadata": {},
   "outputs": [
    {
     "name": "stdout",
     "output_type": "stream",
     "text": [
      "The train time of decision tree 0.23701095581054688\n",
      "train_acc 1.0\n",
      "test_acc 0.8862775565698747\n"
     ]
    }
   ],
   "source": [
    "dt_pipe = Pipeline([\n",
    "    ('preprocessor',preprocessor),\n",
    "    ('dt',DecisionTreeClassifier())\n",
    "])\n",
    "start = time.time()\n",
    "dt_pipe.fit(X_train,y_train)\n",
    "stop = time.time()\n",
    "dt_fit_time = stop - start\n",
    "print(f'The train time of decision tree {dt_fit_time}')\n",
    "dt_train_acc = dt_pipe.score(X_train,y_train)\n",
    "dt_test_acc = dt_pipe.score(X_test,y_test)\n",
    "print(f'train_acc {dt_train_acc}')\n",
    "print(f'test_acc {dt_test_acc}')\n"
   ]
  },
  {
   "cell_type": "code",
   "execution_count": 15,
   "metadata": {},
   "outputs": [
    {
     "data": {
      "text/html": [
       "<div>\n",
       "<style scoped>\n",
       "    .dataframe tbody tr th:only-of-type {\n",
       "        vertical-align: middle;\n",
       "    }\n",
       "\n",
       "    .dataframe tbody tr th {\n",
       "        vertical-align: top;\n",
       "    }\n",
       "\n",
       "    .dataframe thead th {\n",
       "        text-align: right;\n",
       "    }\n",
       "</style>\n",
       "<table border=\"1\" class=\"dataframe\">\n",
       "  <thead>\n",
       "    <tr style=\"text-align: right;\">\n",
       "      <th></th>\n",
       "      <th>model</th>\n",
       "      <th>train time</th>\n",
       "      <th>train accuracy</th>\n",
       "      <th>test accuracy</th>\n",
       "    </tr>\n",
       "  </thead>\n",
       "  <tbody>\n",
       "    <tr>\n",
       "      <th>0</th>\n",
       "      <td>LogisticRegression</td>\n",
       "      <td>0.360233</td>\n",
       "      <td>0.911398</td>\n",
       "      <td>0.912790</td>\n",
       "    </tr>\n",
       "    <tr>\n",
       "      <th>1</th>\n",
       "      <td>SVM</td>\n",
       "      <td>18.602120</td>\n",
       "      <td>0.922696</td>\n",
       "      <td>0.912790</td>\n",
       "    </tr>\n",
       "    <tr>\n",
       "      <th>2</th>\n",
       "      <td>Knn</td>\n",
       "      <td>0.083244</td>\n",
       "      <td>0.927099</td>\n",
       "      <td>0.903176</td>\n",
       "    </tr>\n",
       "    <tr>\n",
       "      <th>3</th>\n",
       "      <td>Decision tree</td>\n",
       "      <td>0.237011</td>\n",
       "      <td>1.000000</td>\n",
       "      <td>0.886278</td>\n",
       "    </tr>\n",
       "  </tbody>\n",
       "</table>\n",
       "</div>"
      ],
      "text/plain": [
       "                model  train time  train accuracy  test accuracy\n",
       "0  LogisticRegression    0.360233        0.911398       0.912790\n",
       "1                 SVM   18.602120        0.922696       0.912790\n",
       "2                 Knn    0.083244        0.927099       0.903176\n",
       "3       Decision tree    0.237011        1.000000       0.886278"
      ]
     },
     "execution_count": 15,
     "metadata": {},
     "output_type": "execute_result"
    }
   ],
   "source": [
    "model = ['LogisticRegression','SVM','Knn','Decision tree']\n",
    "train_time = [log_fit_time,svc_fit_time,knn_fit_time,dt_fit_time]\n",
    "train_acc = [log_train_acc,svc_train_acc,knn_train_acc,dt_train_acc]\n",
    "test_acc = [log_test_acc,svc_test_acc,knn_test_acc,dt_test_acc]\n",
    "result = pd.DataFrame({'model':model,'train time':train_time,'train accuracy':train_acc,'test accuracy':test_acc})\n",
    "result"
   ]
  },
  {
   "cell_type": "markdown",
   "metadata": {},
   "source": [
    "### Problem 11: Improving the Model\n",
    "\n",
    "Now that we have some basic models on the board, we want to try to improve these.  Below, we list a few things to explore in this pursuit.\n",
    "\n",
    "- More feature engineering and exploration.  For example, should we keep the gender feature?  Why or why not?\n",
    "- Hyperparameter tuning and grid search.  All of our models have additional hyperparameters to tune and explore.  For example the number of neighbors in KNN or the maximum depth of a Decision Tree.  \n",
    "- Adjust your performance metric"
   ]
  },
  {
   "cell_type": "code",
   "execution_count": 16,
   "metadata": {},
   "outputs": [
    {
     "data": {
      "text/plain": [
       "array(['job', 'marital', 'education', 'default', 'housing', 'loan',\n",
       "       'contact', 'month', 'day_of_week', 'poutcome'], dtype=object)"
      ]
     },
     "execution_count": 16,
     "metadata": {},
     "output_type": "execute_result"
    }
   ],
   "source": [
    "categorical_features"
   ]
  },
  {
   "cell_type": "code",
   "execution_count": 17,
   "metadata": {},
   "outputs": [
    {
     "data": {
      "image/png": "[encoded data removed]",
      "text/plain": [
       "<Figure size 1152x1152 with 12 Axes>"
      ]
     },
     "metadata": {
      "needs_background": "light"
     },
     "output_type": "display_data"
    }
   ],
   "source": [
    "fig, ax = plt.subplots(4, 3, figsize = (16, 16))\n",
    "sns.barplot(x = 'job', y = 'y',  data = df, ax = ax[0][0])\n",
    "ax[0][0].tick_params(labelrotation=45)\n",
    "sns.barplot(x = 'marital', y = 'y',  data = df, ax = ax[0][1])\n",
    "sns.barplot(x = 'education', y = 'y',  data = df, ax = ax[0][2])\n",
    "ax[0][2].tick_params(labelrotation=45)\n",
    "sns.barplot(x = 'default', y = 'y',  data = df, ax = ax[1][0])\n",
    "sns.barplot(x = 'housing', y = 'y', data = df, ax = ax[1][1])\n",
    "sns.barplot(x = 'loan', y = 'y',  data = df, ax = ax[1][2])\n",
    "sns.barplot(x = 'contact', y = 'y',  data = df, ax = ax[2][0])\n",
    "sns.barplot(x = 'month', y = 'y',  data = df, ax = ax[2][1])\n",
    "sns.barplot(x = 'day_of_week', y = 'y',  data = df, ax = ax[2][2])\n",
    "sns.barplot(x = 'poutcome', y = 'y',  data = df, ax = ax[3][0])\n",
    "sns.histplot(x = 'age',data=df,ax = ax[3][1])\n",
    "sns.countplot(x='y', data = df, ax = ax[3][2])\n",
    "\n",
    "plt.tight_layout()\n"
   ]
  },
  {
   "attachments": {},
   "cell_type": "markdown",
   "metadata": {},
   "source": [
    "#### From the above figure, we can see the successfull rates for different housing condiitons are nearly the name. Similiarly, same for loan and day of week. In this case, I assume housing condtions,loan and day of week do not influence the successful rate and decide to remove these three features from traning."
   ]
  },
  {
   "cell_type": "code",
   "execution_count": 125,
   "metadata": {},
   "outputs": [],
   "source": [
    "new_features = df.drop(['housing','loan','y','day_of_week'], axis=1)\n",
    "labels = df['y']\n",
    "X_train,X_test,y_train,y_teset = train_test_split(new_features,labels,random_state=42)"
   ]
  },
  {
   "cell_type": "code",
   "execution_count": 126,
   "metadata": {},
   "outputs": [],
   "source": [
    "numeric_features = new_features.select_dtypes(exclude=['object']).columns.values\n",
    "categorical_features = new_features.select_dtypes(include='object').columns.values\n",
    "new_preprocessor = ColumnTransformer(\n",
    "    transformers=[\n",
    "        (\"num\", StandardScaler(), numeric_features),\n",
    "        (\"cat\", OneHotEncoder(drop='if_binary'), categorical_features),\n",
    "    ]\n",
    ")"
   ]
  },
  {
   "cell_type": "code",
   "execution_count": 127,
   "metadata": {},
   "outputs": [
    {
     "name": "stdout",
     "output_type": "stream",
     "text": [
      "train_acc 0.9110096791945874\n",
      "test_acc 0.9131785957074876\n"
     ]
    }
   ],
   "source": [
    "# logisitc regression\n",
    "log_pipe = Pipeline([\n",
    "    ('preprocessor',new_preprocessor),\n",
    "    ('log',LogisticRegression(max_iter = 500))\n",
    "])\n",
    "log_params = {'log__C':np.logspace(-5,5,10)}\n",
    "log_grid = GridSearchCV(log_pipe,param_grid=log_params).fit(X_train,y_train)\n",
    "log_train_acc = log_grid.score(X_train,y_train)\n",
    "log_test_acc = log_grid.score(X_test,y_test)\n",
    "print(f'train_acc {log_train_acc}')\n",
    "print(f'test_acc {log_test_acc}')"
   ]
  },
  {
   "cell_type": "code",
   "execution_count": 92,
   "metadata": {},
   "outputs": [
    {
     "data": {
      "text/plain": [
       "0.9364637231490903"
      ]
     },
     "execution_count": 92,
     "metadata": {},
     "output_type": "execute_result"
    }
   ],
   "source": [
    "auc_log= roc_auc_score(y_test,log_grid.predict_proba(X_test)[:,1])\n",
    "auc_log"
   ]
  },
  {
   "cell_type": "code",
   "execution_count": 132,
   "metadata": {},
   "outputs": [
    {
     "data": {
      "text/plain": [
       "0.07350220680236816"
      ]
     },
     "execution_count": 132,
     "metadata": {},
     "output_type": "execute_result"
    }
   ],
   "source": [
    "log_mean_fit = log_grid.cv_results_['mean_fit_time'].min()\n",
    "log_mean_fit"
   ]
  },
  {
   "cell_type": "code",
   "execution_count": 93,
   "metadata": {},
   "outputs": [
    {
     "name": "stdout",
     "output_type": "stream",
     "text": [
      "              precision    recall  f1-score   support\n",
      "\n",
      "           0       0.93      0.97      0.95      9144\n",
      "           1       0.68      0.43      0.53      1153\n",
      "\n",
      "    accuracy                           0.91     10297\n",
      "   macro avg       0.80      0.70      0.74     10297\n",
      "weighted avg       0.90      0.91      0.90     10297\n",
      "\n"
     ]
    }
   ],
   "source": [
    "print(classification_report(y_test,log_grid.predict(X_test)))"
   ]
  },
  {
   "cell_type": "code",
   "execution_count": 1,
   "metadata": {},
   "outputs": [
    {
     "data": {
      "text/plain": [
       "\"svc_pipe = Pipeline([\\n    ('preprocessor',new_preprocessor),\\n    ('svc',SVC(max_iter=300))\\n])\\nsvc_param = {'svc__C': [0.1,1, 10, 100], 'svc__gamma': [1,0.1,0.01,0.001],'svc__kernel': ['rbf', 'poly', 'sigmoid']}\\nsvc_grid = GridSearchCV(svc_pipe,param_grid=svc_param).fit(X_train,y_train)\\nsvc_train_acc = svc_grid.score(X_train,y_train)\\nsvc_test_acc = svc_grid.score(X_test,y_test)\\nprint(f'train_acc {svc_train_acc}')\\nprint(f'test_acc {svc_test_acc}')\""
      ]
     },
     "execution_count": 1,
     "metadata": {},
     "output_type": "execute_result"
    }
   ],
   "source": [
    "# svc\n",
    "# svm takes forever to run. \n",
    "\"\"\"svc_pipe = Pipeline([\n",
    "    ('preprocessor',new_preprocessor),\n",
    "    ('svc',SVC(max_iter=300))\n",
    "])\n",
    "svc_param = {'svc__C': [0.1,1, 10, 100], 'svc__gamma': [1,0.1,0.01,0.001],'svc__kernel': ['rbf', 'poly', 'sigmoid']}\n",
    "svc_grid = GridSearchCV(svc_pipe,param_grid=svc_param).fit(X_train,y_train)\n",
    "svc_train_acc = svc_grid.score(X_train,y_train)\n",
    "svc_test_acc = svc_grid.score(X_test,y_test)\n",
    "print(f'train_acc {svc_train_acc}')\n",
    "print(f'test_acc {svc_test_acc}')\"\"\""
   ]
  },
  {
   "cell_type": "code",
   "execution_count": 94,
   "metadata": {},
   "outputs": [
    {
     "name": "stdout",
     "output_type": "stream",
     "text": [
      "train_acc 0.9173869411802791\n",
      "test_acc 0.907740118481111\n"
     ]
    }
   ],
   "source": [
    "# knn\n",
    "knn_pipe = Pipeline([\n",
    "    ('preprocessor',new_preprocessor),\n",
    "    ('knn',knn())\n",
    "])\n",
    "\n",
    "knn_param = {'knn__n_neighbors':list(range(1,15))}\n",
    "\n",
    "knn_grid = GridSearchCV(knn_pipe, param_grid= knn_param).fit(X_train,y_train)\n",
    "\n",
    "knn_train_acc = knn_grid.score(X_train,y_train)\n",
    "knn_test_acc = knn_grid.score(X_test,y_test)\n",
    "print(f'train_acc {knn_train_acc}')\n",
    "print(f'test_acc {knn_test_acc}')"
   ]
  },
  {
   "cell_type": "code",
   "execution_count": 133,
   "metadata": {},
   "outputs": [
    {
     "data": {
      "text/plain": [
       "0.0466017620904105"
      ]
     },
     "execution_count": 133,
     "metadata": {},
     "output_type": "execute_result"
    }
   ],
   "source": [
    "knn_mean_fit = knn_grid.cv_results_['mean_fit_time'].mean()\n",
    "knn_mean_fit"
   ]
  },
  {
   "cell_type": "code",
   "execution_count": 96,
   "metadata": {},
   "outputs": [
    {
     "data": {
      "text/plain": [
       "0.9113343770558602"
      ]
     },
     "execution_count": 96,
     "metadata": {},
     "output_type": "execute_result"
    }
   ],
   "source": [
    "auc_knn = roc_auc_score(y_test,knn_grid.predict_proba(X_test)[:,1])\n",
    "auc_knn"
   ]
  },
  {
   "cell_type": "code",
   "execution_count": 97,
   "metadata": {},
   "outputs": [
    {
     "name": "stdout",
     "output_type": "stream",
     "text": [
      "train_acc 0.9164805283092162\n",
      "test_acc 0.9159949499854326\n"
     ]
    }
   ],
   "source": [
    "# decision tree\n",
    "dt_pipe = Pipeline([\n",
    "    ('preprocessor',new_preprocessor),\n",
    "    ('dt',DecisionTreeClassifier())\n",
    "])\n",
    "\n",
    "dt_param = tree_para = {'dt__criterion':['gini','entropy'],'dt__max_depth':np.arange(3,20,2)}\n",
    "dt_grid = GridSearchCV(dt_pipe,param_grid=dt_param).fit(X_train,y_train)\n",
    "dt_train_acc = dt_grid.score(X_train,y_train)\n",
    "dt_test_acc = dt_grid.score(X_test,y_test)\n",
    "print(f'train_acc {dt_train_acc}')\n",
    "print(f'test_acc {dt_test_acc}')"
   ]
  },
  {
   "cell_type": "code",
   "execution_count": 134,
   "metadata": {},
   "outputs": [
    {
     "data": {
      "text/plain": [
       "0.23701095581054688"
      ]
     },
     "execution_count": 134,
     "metadata": {},
     "output_type": "execute_result"
    }
   ],
   "source": [
    "dt_mean_fit = dt_grid.cv_results_['mean_fit_time'].mean()\n",
    "dt_fit_time"
   ]
  },
  {
   "cell_type": "code",
   "execution_count": 98,
   "metadata": {},
   "outputs": [
    {
     "data": {
      "text/plain": [
       "0.9237657630176974"
      ]
     },
     "execution_count": 98,
     "metadata": {},
     "output_type": "execute_result"
    }
   ],
   "source": [
    "auc_dt = roc_auc_score(y_test,dt_grid.predict_proba(X_test)[:,1])\n",
    "auc_dt"
   ]
  },
  {
   "cell_type": "code",
   "execution_count": 135,
   "metadata": {},
   "outputs": [
    {
     "data": {
      "text/html": [
       "<div>\n",
       "<style scoped>\n",
       "    .dataframe tbody tr th:only-of-type {\n",
       "        vertical-align: middle;\n",
       "    }\n",
       "\n",
       "    .dataframe tbody tr th {\n",
       "        vertical-align: top;\n",
       "    }\n",
       "\n",
       "    .dataframe thead th {\n",
       "        text-align: right;\n",
       "    }\n",
       "</style>\n",
       "<table border=\"1\" class=\"dataframe\">\n",
       "  <thead>\n",
       "    <tr style=\"text-align: right;\">\n",
       "      <th></th>\n",
       "      <th>model</th>\n",
       "      <th>train accuracy</th>\n",
       "      <th>test accuracy</th>\n",
       "      <th>auc</th>\n",
       "      <th>mean fit time</th>\n",
       "    </tr>\n",
       "  </thead>\n",
       "  <tbody>\n",
       "    <tr>\n",
       "      <th>0</th>\n",
       "      <td>LogisticRegression</td>\n",
       "      <td>0.911010</td>\n",
       "      <td>0.913179</td>\n",
       "      <td>0.936464</td>\n",
       "      <td>0.073502</td>\n",
       "    </tr>\n",
       "    <tr>\n",
       "      <th>1</th>\n",
       "      <td>Knn</td>\n",
       "      <td>0.917387</td>\n",
       "      <td>0.907740</td>\n",
       "      <td>0.911334</td>\n",
       "      <td>0.046602</td>\n",
       "    </tr>\n",
       "    <tr>\n",
       "      <th>2</th>\n",
       "      <td>Decision tree</td>\n",
       "      <td>0.916481</td>\n",
       "      <td>0.915995</td>\n",
       "      <td>0.923766</td>\n",
       "      <td>0.237011</td>\n",
       "    </tr>\n",
       "  </tbody>\n",
       "</table>\n",
       "</div>"
      ],
      "text/plain": [
       "                model  train accuracy  test accuracy       auc  mean fit time\n",
       "0  LogisticRegression        0.911010       0.913179  0.936464       0.073502\n",
       "1                 Knn        0.917387       0.907740  0.911334       0.046602\n",
       "2       Decision tree        0.916481       0.915995  0.923766       0.237011"
      ]
     },
     "execution_count": 135,
     "metadata": {},
     "output_type": "execute_result"
    }
   ],
   "source": [
    "# summarize the result\n",
    "model = ['LogisticRegression','Knn','Decision tree']\n",
    "train_acc = [log_train_acc,knn_train_acc,dt_train_acc]\n",
    "test_acc = [log_test_acc,knn_test_acc,dt_test_acc]\n",
    "mean_fit = [log_mean_fit,knn_mean_fit,dt_fit_time]\n",
    "auc = [auc_log,auc_knn,auc_dt]\n",
    "new_result = pd.DataFrame({'model':model,'train accuracy':train_acc,'test accuracy':test_acc,'auc':auc,'mean fit time':mean_fit})\n",
    "new_result"
   ]
  },
  {
   "cell_type": "code",
   "execution_count": 100,
   "metadata": {},
   "outputs": [
    {
     "data": {
      "text/html": [
       "<div>\n",
       "<style scoped>\n",
       "    .dataframe tbody tr th:only-of-type {\n",
       "        vertical-align: middle;\n",
       "    }\n",
       "\n",
       "    .dataframe tbody tr th {\n",
       "        vertical-align: top;\n",
       "    }\n",
       "\n",
       "    .dataframe thead th {\n",
       "        text-align: right;\n",
       "    }\n",
       "</style>\n",
       "<table border=\"1\" class=\"dataframe\">\n",
       "  <thead>\n",
       "    <tr style=\"text-align: right;\">\n",
       "      <th></th>\n",
       "      <th>model</th>\n",
       "      <th>train time</th>\n",
       "      <th>train accuracy</th>\n",
       "      <th>test accuracy</th>\n",
       "    </tr>\n",
       "  </thead>\n",
       "  <tbody>\n",
       "    <tr>\n",
       "      <th>0</th>\n",
       "      <td>LogisticRegression</td>\n",
       "      <td>0.360233</td>\n",
       "      <td>0.911398</td>\n",
       "      <td>0.912790</td>\n",
       "    </tr>\n",
       "    <tr>\n",
       "      <th>1</th>\n",
       "      <td>SVM</td>\n",
       "      <td>18.602120</td>\n",
       "      <td>0.922696</td>\n",
       "      <td>0.912790</td>\n",
       "    </tr>\n",
       "    <tr>\n",
       "      <th>2</th>\n",
       "      <td>Knn</td>\n",
       "      <td>0.083244</td>\n",
       "      <td>0.927099</td>\n",
       "      <td>0.903176</td>\n",
       "    </tr>\n",
       "    <tr>\n",
       "      <th>3</th>\n",
       "      <td>Decision tree</td>\n",
       "      <td>0.237011</td>\n",
       "      <td>1.000000</td>\n",
       "      <td>0.886278</td>\n",
       "    </tr>\n",
       "  </tbody>\n",
       "</table>\n",
       "</div>"
      ],
      "text/plain": [
       "                model  train time  train accuracy  test accuracy\n",
       "0  LogisticRegression    0.360233        0.911398       0.912790\n",
       "1                 SVM   18.602120        0.922696       0.912790\n",
       "2                 Knn    0.083244        0.927099       0.903176\n",
       "3       Decision tree    0.237011        1.000000       0.886278"
      ]
     },
     "execution_count": 100,
     "metadata": {},
     "output_type": "execute_result"
    }
   ],
   "source": [
    "# previous result\n",
    "result"
   ]
  },
  {
   "attachments": {},
   "cell_type": "markdown",
   "metadata": {},
   "source": [
    "##### Questions\n",
    "\n",
    "##### Q1: after using column ColumnTransformer, column name disapper. Since there is no name for each feature, how do i analysis feature importance? or how to keep column when using column transfermer?\n",
    "##### Q2: after using gridserchcv to find the best hyperparameter, the accuracy does not improve. what can i do to improve the accuracy?"
   ]
  },
  {
   "attachments": {},
   "cell_type": "markdown",
   "metadata": {},
   "source": [
    "### Feature importance"
   ]
  },
  {
   "cell_type": "code",
   "execution_count": 139,
   "metadata": {},
   "outputs": [],
   "source": [
    "new_features = df.drop(['housing','loan','y','day_of_week'], axis=1)\n",
    "categorical_features = new_features.select_dtypes(include='object').columns.values\n",
    "new_features = pd.get_dummies(new_features,categorical_features)\n",
    "labels = df['y']\n",
    "X_train,X_test,y_train,y_teset = train_test_split(new_features,labels,random_state=42)"
   ]
  },
  {
   "cell_type": "code",
   "execution_count": 140,
   "metadata": {},
   "outputs": [
    {
     "name": "stdout",
     "output_type": "stream",
     "text": [
      "train_acc 0.9110096791945874\n",
      "test_acc 0.9131785957074876\n",
      "best parameter {'log__C': 3.593813663804626}\n"
     ]
    }
   ],
   "source": [
    "# logisitc regression\n",
    "log_pipe = Pipeline([\n",
    "    ('scale',StandardScaler()),\n",
    "    ('log',LogisticRegression(max_iter = 500))\n",
    "])\n",
    "log_params = {'log__C':np.logspace(-5,5,10)}\n",
    "log_grid = GridSearchCV(log_pipe,param_grid=log_params).fit(X_train,y_train)\n",
    "log_train_acc = log_grid.score(X_train,y_train)\n",
    "log_test_acc = log_grid.score(X_test,y_test)\n",
    "print(f'train_acc {log_train_acc}')\n",
    "print(f'test_acc {log_test_acc}')\n",
    "print('best parameter',log_grid.best_params_)"
   ]
  },
  {
   "cell_type": "code",
   "execution_count": 141,
   "metadata": {},
   "outputs": [
    {
     "name": "stdout",
     "output_type": "stream",
     "text": [
      "emp.var.rate  0.195 +/- 0.003\n",
      "cons.price.idx  0.045 +/- 0.002\n",
      "duration  0.038 +/- 0.002\n",
      "euribor3m  0.013 +/- 0.001\n",
      "nr.employed  0.006 +/- 0.001\n",
      "pdays     0.005 +/- 0.000\n",
      "poutcome_success  0.002 +/- 0.000\n",
      "month_aug  0.002 +/- 0.001\n",
      "month_mar  0.002 +/- 0.000\n",
      "contact_telephone  0.002 +/- 0.001\n",
      "contact_cellular  0.002 +/- 0.001\n",
      "cons.conf.idx  0.001 +/- 0.000\n",
      "month_jun  0.001 +/- 0.000\n",
      "default_no  0.001 +/- 0.000\n",
      "default_unknown  0.001 +/- 0.000\n",
      "month_sep  0.001 +/- 0.000\n",
      "job_entrepreneur  0.000 +/- 0.000\n",
      "education_unknown  0.000 +/- 0.000\n"
     ]
    }
   ],
   "source": [
    "r = permutation_importance(log_grid, X_test, y_test,\n",
    "                          n_repeats=30,\n",
    "                         random_state=0)\n",
    "\n",
    "for i in r.importances_mean.argsort()[::-1]:\n",
    "    if r.importances_mean[i] - 2 * r.importances_std[i] > 0:\n",
    "       print(f\"{X_train.columns[i]:<8}  \"\n",
    "             f\"{r.importances_mean[i]:.3f}\"\n",
    "               f\" +/- {r.importances_std[i]:.3f}\")"
   ]
  },
  {
   "cell_type": "code",
   "execution_count": 142,
   "metadata": {},
   "outputs": [],
   "source": [
    "coef = log_grid.best_estimator_.named_steps.log.coef_[0]\n",
    "name = X_train.columns.values\n",
    "df_coef = pd.DataFrame({'feature':name,'coeff':coef})\n",
    "df_coef = df_coef.sort_values(by = 'coeff',ascending=False)[:5]"
   ]
  },
  {
   "cell_type": "code",
   "execution_count": 143,
   "metadata": {},
   "outputs": [
    {
     "data": {
      "text/plain": [
       "<AxesSubplot:xlabel='feature', ylabel='coeff'>"
      ]
     },
     "execution_count": 143,
     "metadata": {},
     "output_type": "execute_result"
    },
    {
     "data": {
      "image/png": "[encoded data removed]",
      "text/plain": [
       "<Figure size 432x288 with 1 Axes>"
      ]
     },
     "metadata": {
      "needs_background": "light"
     },
     "output_type": "display_data"
    }
   ],
   "source": [
    "sns.barplot(data = df_coef,x = 'feature',y = 'coeff')"
   ]
  },
  {
   "cell_type": "code",
   "execution_count": null,
   "metadata": {},
   "outputs": [],
   "source": []
  }
 ],
 "metadata": {
  "kernelspec": {
   "display_name": "base",
   "language": "python",
   "name": "python3"
  },
  "language_info": {
   "codemirror_mode": {
    "name": "ipython",
    "version": 3
   },
   "file_extension": ".py",
   "mimetype": "text/x-python",
   "name": "python",
   "nbconvert_exporter": "python",
   "pygments_lexer": "ipython3",
   "version": "3.8.8"
  },
  "vscode": {
   "interpreter": {
    "hash": "40d3a090f54c6569ab1632332b64b2c03c39dcf918b08424e98f38b5ae0af88f"
   }
  },
  "widgets": {
   "application/vnd.jupyter.widget-state+json": {
    "state": {},
    "version_major": 2,
    "version_minor": 0
   }
  }
 },
 "nbformat": 4,
 "nbformat_minor": 4
}
